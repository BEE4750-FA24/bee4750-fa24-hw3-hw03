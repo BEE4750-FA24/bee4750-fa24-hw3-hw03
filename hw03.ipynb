{
  "cells": [
    {
      "cell_type": "markdown",
      "metadata": {},
      "source": [
        "# BEE 4750 Homework 3: Uncertain Sea-Level Rise and Levee Reliability\n",
        "\n",
        "**Name**:\n",
        "\n",
        "**ID**:\n",
        "\n",
        "> **Due Date**\n",
        ">\n",
        "> Friday, 10/06/23, 9:00pm\n",
        "\n",
        "## Overview\n",
        "\n",
        "### Instructions\n",
        "\n",
        "This assignment asks you to conduct a Monte Carlo analysis of levee\n",
        "reliability in the face of uncertain changes to local sea levels. You\n",
        "will propagate uncertainty in equilibrium climate sensitivity through\n",
        "the energy balance model to obtain a distribution of temperatures, which\n",
        "will then drive a model of sea-level rise. You will finally use this\n",
        "distribution to assess the probability that a planned levee will achieve\n",
        "its desired reliability standard.\n",
        "\n",
        "### Load Environment\n",
        "\n",
        "The following code loads the environment and makes sure all needed\n",
        "packages are installed. This should be at the start of most Julia\n",
        "scripts."
      ],
      "id": "c830358c-9bde-4e06-a0f2-90dea37af636"
    },
    {
      "cell_type": "code",
      "execution_count": 1,
      "metadata": {},
      "outputs": [],
      "source": [
        "import Pkg\n",
        "Pkg.activate(@__DIR__)\n",
        "Pkg.instantiate()"
      ],
      "id": "e9ae859e"
    },
    {
      "cell_type": "code",
      "execution_count": 2,
      "metadata": {},
      "outputs": [],
      "source": [
        "using Random\n",
        "using Plots\n",
        "using LaTeXStrings\n",
        "using Distributions\n",
        "using CSV\n",
        "using DataFrames"
      ],
      "id": "a17daf17"
    },
    {
      "cell_type": "markdown",
      "metadata": {},
      "source": [
        "## Problems (Total: 40 Points)"
      ],
      "id": "5039ddbd-9ce2-46b4-bad7-a02e11ff1826"
    },
    {
      "cell_type": "markdown",
      "metadata": {},
      "source": [
        "### Problem 1 (12 points)\n",
        "\n",
        "Recall from class that the simple energy balance model (EBM) of\n",
        "planetary energy balance links changes in radiative forcing ($F$) to\n",
        "global mean temperature ($T$) changes through the discretized equation\n",
        "$$T_{i+1} = T_{i} + \\frac{F_i - \\lambda T_i}{cd} \\times \\Delta t,$$\n",
        "where $i$ is the current time step, $c = 4.184 \\times 10^6$\n",
        "J/K/m<sup>2</sup> is the heat capacity of water per unit area, $d$ is\n",
        "the (uncertain) depth of the mixing layer, $\\Delta t$ is the annual time\n",
        "step in seconds and $\\lambda = F_{\\text{2xCO}_2}/S$ is the climate\n",
        "feedback parameter in W/m<sup>2</sup>/$^\\circ$ C, where $S$ is the\n",
        "equilibrium climate sensitivity (the uncertain equilibrium temperature\n",
        "change resulting from a doubling of atmospheric CO<sub>2</sub>).\n",
        "Finally, while total radiative forcing can be the result of non-aerosol\n",
        "and aerosol effects, we do not know the relative intensity of aerosol\n",
        "forcing, so we represent this with an uncertain aerosol scaling factor\n",
        "$\\alpha$.\n",
        "\n",
        "We can implement this model with the following Julia function. We will\n",
        "assume an ocean mixing depth $d = 100$ m and an aerosol scaling factor\n",
        "$\\alpha = 1.3$ so we can focus on the uncertainty in $S$.\n",
        "\n",
        "The last technical concern is that “global mean temperature” does not\n",
        "make sense in absolute terms as a marker of climate change. Instead, we\n",
        "typically refer to temperature changes relative to some historical\n",
        "pre-industrial baseline. In this case, we will use the period from\n",
        "1880-1900, though this choice can vary."
      ],
      "id": "6c3d4ddf-3a2e-48cc-abe3-f8ed3aea8ed8"
    },
    {
      "cell_type": "code",
      "execution_count": 3,
      "metadata": {},
      "outputs": [
        {
          "output_type": "display_data",
          "metadata": {},
          "data": {
            "text/plain": [
              "energy_balance_model (generic function with 1 method)"
            ]
          }
        }
      ],
      "source": [
        "# we need to split up the aerosol and non-aerosol forcings when we call the function\n",
        "function energy_balance_model(S, forcing_aerosol, forcing_non_aerosol)\n",
        "    d = 100 # ocean mixing depth [m]\n",
        "    α = 1.3 # aerosol scaling factor\n",
        "    F2xCO₂ = 4.0 # radiative forcing [W/m²] for a doubling of CO₂\n",
        "    λ = F2xCO₂/S\n",
        "    \n",
        "    c = 4.184e6 # heat capacity/area [J/K/m²]\n",
        "    C = c*d # heat capacity of mixed layer (per area)\n",
        "\n",
        "    F = forcing_non_aerosol + α*forcing_aerosol # radiative forcing\n",
        "\n",
        "    Δt = 31558152.0 # annual timestep [s]\n",
        "    \n",
        "    T = zero(F)\n",
        "    for i in 1:length(F)-1\n",
        "        T[i+1] = T[i] + (F[i] - λ*T[i])/C * Δt\n",
        "    end\n",
        "    # return temperature anomaly relative to 1880-1900 baseline\n",
        "    return T .- mean(T[1:21]) \n",
        "end"
      ],
      "id": "119e186c"
    },
    {
      "cell_type": "markdown",
      "metadata": {},
      "source": [
        "Finally, we need to load some radiative forcing data. We will use the\n",
        "radiative forcing scenario RCP 8.5. We can load this data, which is in a\n",
        "`.csv` (comma-delimited) file, into a `DataFrame`, which is a tabular\n",
        "data structure. Rows and columns in a `DataFrame` can be accessed using\n",
        "their numerical index (like a matrix), but columns also have names; you\n",
        "can access a particular column in a dataframe `df` by name using\n",
        "`df.colname` or `df[:, \"colname\"]`.\n",
        "\n",
        "Of note: this data set goes from 1750–2500, so you will need to take\n",
        "care to make sure you are using the right years at each step. For\n",
        "example, here we will constrain the data to 1880–2100, which is the\n",
        "period we are interested in."
      ],
      "id": "81d14723-311b-47d9-afff-853a22432025"
    },
    {
      "cell_type": "code",
      "execution_count": 4,
      "metadata": {},
      "outputs": [
        {
          "output_type": "display_data",
          "metadata": {},
          "data": {
            "text/plain": [
              "221-element Vector{Float64}:\n",
              "  0.42741479112315905\n",
              "  0.4487940147601447\n",
              "  0.4900144276528058\n",
              " -0.019811270078689047\n",
              " -1.480725700367619\n",
              " -0.3154905163510021\n",
              "  0.233186559774844\n",
              "  0.2923308952663089\n",
              "  0.45833872365810924\n",
              "  0.5168189581089915\n",
              "  0.4144761329626494\n",
              "  0.2762327724171124\n",
              "  0.48656957869238376\n",
              "  ⋮\n",
              "  9.560222650653953\n",
              "  9.671039126229665\n",
              "  9.772610821460296\n",
              "  9.879065698371564\n",
              "  9.946850640754889\n",
              " 10.002169546141578\n",
              " 10.061009359425011\n",
              " 10.115684195707905\n",
              " 10.182946497594184\n",
              " 10.249699157847772\n",
              " 10.331407709334023\n",
              " 10.424544495740134"
            ]
          }
        }
      ],
      "source": [
        "# The CSV is read into a DataFrame object, and we specify that it is comma delimited\n",
        "forcings_all_85 = CSV.read(\"data/ERF_ssp585_1750-2500.csv\", DataFrame, delim=\",\")\n",
        "\n",
        "# get the years corresponding to the forcings\n",
        "t = Int64.(forcings_all_85[!,\"year\"]) # Ensure that years are interpreted as integers\n",
        "# find the indices of the years 1880 and 2100\n",
        "# we can do this with the indexin function\n",
        "time_bounds = indexin([1880, 2100], t)\n",
        "years = time_bounds[1]:time_bounds[2] # create range of years\n",
        "\n",
        "# Separate out the individual components\n",
        "forcing_co2_85 = forcings_all_85[years,\"co2\"]\n",
        "# Get total aerosol and non-aerosol forcings\n",
        "forcing_aerosol_rad_85 = forcings_all_85[years,\"aerosol-radiation_interactions\"]\n",
        "forcing_aerosol_cloud_85 = forcings_all_85[years,\"aerosol-cloud_interactions\"]\n",
        "forcing_aerosol_85 = forcing_aerosol_rad_85 + forcing_aerosol_cloud_85 # aerosol forcings\n",
        "forcing_total_85 = forcings_all_85[years,\"total\"] \n",
        "forcing_non_aerosol_85 = forcing_total_85 - forcing_aerosol_85 # non-aerosol forcings"
      ],
      "id": "899742e1"
    },
    {
      "cell_type": "markdown",
      "metadata": {},
      "source": [
        "For this assignment, you can use the `forcing_aerosol_85` and\n",
        "`forcing_non_aerosol_85` vectors as is to correspond to the relevant\n",
        "forcings. You will need to use the vector `t` to find the appropriate\n",
        "years for analysis."
      ],
      "id": "ae7874a5-3d6c-4443-9281-38f5a80188bc"
    },
    {
      "cell_type": "markdown",
      "metadata": {},
      "source": [
        "#### Problem 1.1 (3 points)\n",
        "\n",
        "Assume that $S$ is distributed according to\n",
        "$\\text{LogNormal}(\\log(3.2), \\log{2}/3)$ (as in class). Draw 10,000\n",
        "samples from this distribution and make a histogram."
      ],
      "id": "8aab3e96-5e2b-4f39-9701-d7087fd08f67"
    },
    {
      "cell_type": "markdown",
      "metadata": {},
      "source": [
        "#### Problem 1.2 (5 points)\n",
        "\n",
        "Use the EBM to propagate your samples of $S$ to a distribution of global\n",
        "mean temperature. Plot the median and 90% predictive distribution\n",
        "(between the .05 and .95 quantiles) from 1880-2100."
      ],
      "id": "da243dbc-0396-46f7-bd3a-5596938238ce"
    },
    {
      "cell_type": "markdown",
      "metadata": {},
      "source": [
        "#### Problem 1.3 (4 points)\n",
        "\n",
        "Make a histogram of global mean temperature projections in 2100. If you\n",
        "compare this distribution to the distribution of $S$ from Problem 1.1,\n",
        "what do you observe?"
      ],
      "id": "f4ef5210-3423-4147-adcb-baff0ff93b48"
    },
    {
      "cell_type": "markdown",
      "metadata": {},
      "source": [
        "### Problem 2 (15 points)\n",
        "\n",
        "Changes to global temperatures cause changes in global sea levels\n",
        "through several mechanisms, including thermal expansion (the change in\n",
        "ocean volume due to increased heat content) and melting land-based ice.\n",
        "One simple way to represent this link is through the following model,\n",
        "proposed by [Rahmstorf (2007)](https://doi.org/10.1126/science.1135456).\n",
        "\n",
        "$$\\frac{dH}{dt} = a(T-T_0),$$\n",
        "\n",
        "where $H$ is the global mean sea level in mm, $T$ is global mean\n",
        "temperature, $T_0$ is an equilibrium temperature (where there is no\n",
        "change in sea levels), and $a$ is a proportionality constant. This model\n",
        "can be discretized to give $$H_{i+1} - H_i = a (T_i - T_0).$$\n",
        "\n",
        "Note that, like with global mean temperature, the notion of “global mean\n",
        "sea level” does not make sense in absolute terms (were sea levels ever\n",
        "at “zero”?). Instead, we want to normalize this relative to some\n",
        "historical baseline. In this case (with a view towards Problem 3), we\n",
        "will compute our sea levels relative to the 2010 sea level. Note that in\n",
        "addition to the model parameters, we also need an initial sea-level\n",
        "parameter $H_0$ which will give us the right anomaly level.\n",
        "\n",
        "The best estimates for these parameters are:\n",
        "\n",
        "-   $a = 1.86$;\n",
        "-   $H_0 = -223$;\n",
        "-   $T_0 = -0.62$"
      ],
      "id": "b2048be6-41b7-479a-be6a-ce7ab58d1fc7"
    },
    {
      "cell_type": "markdown",
      "metadata": {},
      "source": [
        "#### Problem 2.1 (5 points)\n",
        "\n",
        "Write a function `sea_level_model()` to implement the mathematical\n",
        "sea-level rise model described above. It should take in needed\n",
        "parameters and a vector of temperatures and return a vector of sea\n",
        "levels. To test your function, use the provided temperature series\n",
        "`historical_temps` (read in below) to compute the global mean sea level\n",
        "anomaly in 2022 (the last year of the dataset) with the parameter values\n",
        "above; you should get a value of approximately 40mm."
      ],
      "id": "9236a92d-50cc-44a6-8a53-9721e21c0361"
    },
    {
      "cell_type": "code",
      "execution_count": 5,
      "metadata": {},
      "outputs": [
        {
          "output_type": "display_data",
          "metadata": {},
          "data": {
            "text/plain": [
              "143-element Vector{Float64}:\n",
              "  0.07297116761904765\n",
              "  0.15655772761904765\n",
              "  0.09327316761904769\n",
              "  0.04232884761904765\n",
              " -0.10351681238095234\n",
              " -0.08232033238095232\n",
              " -0.03210037238095231\n",
              " -0.10998251238095236\n",
              "  0.00942435761904764\n",
              "  0.13890768761904768\n",
              " -0.11805492238095233\n",
              " -0.012511692380952344\n",
              " -0.11875525238095236\n",
              "  ⋮\n",
              "  0.9265009776190476\n",
              "  0.9664103476190478\n",
              "  1.0123786476190477\n",
              "  1.0616748976190478\n",
              "  1.2139176176190476\n",
              "  1.3217303776190477\n",
              "  1.2339774976190476\n",
              "  1.1514572476190477\n",
              "  1.2798758476190477\n",
              "  1.3115970476190477\n",
              "  1.1506591476190478\n",
              "  1.1896871476190476"
            ]
          }
        }
      ],
      "source": [
        "historical_temp_data = CSV.read(\"data/HadCRUT.5.0.1.0.analysis.summary_series.global.annual.csv\", DataFrame, delim=\",\")\n",
        "# column 2 is the temperature anomaly, column 1 is the year\n",
        "temp_bds = indexin([1880, 1900], historical_temp_data[!, 1]) # find the index of 2010 for normalization\n",
        "historical_temp_data[:, 2] .-= mean(historical_temp_data[temp_bds[1]:temp_bds[2], 2])\n",
        "historical_temps = historical_temp_data[temp_bds[1]:end, 2]"
      ],
      "id": "a3f954b8"
    },
    {
      "cell_type": "markdown",
      "metadata": {},
      "source": [
        "#### Problem 2.2 (5 points)\n",
        "\n",
        "Evaluate `sea_level_model()` using the projected temperature ensemble\n",
        "from Problem 1. Plot the 90% projection interval of the sea levels."
      ],
      "id": "27589e63-6294-4801-9057-17c115edd6c9"
    },
    {
      "cell_type": "markdown",
      "metadata": {},
      "source": [
        "#### Problem 2.3 (5 points)\n",
        "\n",
        "Make a histogram of the sea-level anomaly in 2100. What can you observe\n",
        "about how the ECS uncertainty has impacted sea-level uncertainty under\n",
        "this radiative forcing scenario? What might the implications be of only\n",
        "using the best-estimate ECS value?"
      ],
      "id": "c43385f9-bf3e-4b30-8f6e-01f8a316756f"
    },
    {
      "cell_type": "markdown",
      "metadata": {},
      "source": [
        "### Problem 3 (13 points)\n",
        "\n",
        "You’ve been asked to consult on a levee reliability analysis. For\n",
        "context, levees in the United States are supposed to only fail once in\n",
        "100 years, or, in other words, to have at most a 1% chance of failure in\n",
        "a given year. We will assume for this problem that the only way in which\n",
        "a levee fails is by being overtopped (note: this is unrealistic).\n",
        "\n",
        "We can assess the probability of levee overtopping by comparing its\n",
        "height to a distribution of extreme sea levels. A common approach is to\n",
        "look at the distribution of the highest sea level each year. These\n",
        "extreme sea levels can be obtained by combining the absolute sea level\n",
        "(we will use our distribution of global sea levels for this), the rate\n",
        "of subsidence (how much the ground sinks), and the distribution of storm\n",
        "tides (the highest tide level, which is often the result of storm surges\n",
        "combining with high tide).\n",
        "\n",
        "Assume for this problem that:\n",
        "\n",
        "1.  the annual rate of subsidence $\\nu$ is 1.2mm/yr;\n",
        "2.  the distribution of annual storm tide maxima, above the mean sea\n",
        "    level, is (and is expected to continue to be) given by a\n",
        "    $\\text{GeneralizedExtremeValue}(900, 25, 0.3)$ distribution, which\n",
        "    looks like this:"
      ],
      "id": "872f2d5e-d235-4e83-8e1f-6d5f40f5f22f"
    },
    {
      "cell_type": "code",
      "execution_count": 6,
      "metadata": {},
      "outputs": [
        {
          "output_type": "display_data",
          "metadata": {},
          "data": {
            "text/html": [
              "<img src=\"data:image/png;base64,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\" />"
            ]
          }
        }
      ],
      "source": [
        "tide_distribution = GeneralizedExtremeValue(900, 25, 0.3)\n",
        "    histogram(rand(tide_distribution, 10000), xlabel=\"Storm Tide Height (mm)\", ylabel=\"Count\", legend=:false)"
      ],
      "id": "bc383dc8"
    },
    {
      "cell_type": "markdown",
      "metadata": {},
      "source": [
        "Feel free to just sample from `tide_distribution` in your solution\n",
        "below."
      ],
      "id": "8952625d-897a-4924-91c0-9321d8636cd9"
    },
    {
      "cell_type": "markdown",
      "metadata": {},
      "source": [
        "#### Problem 3.1 (2 points)\n",
        "\n",
        "How would you use your sea-level simulations and the above information\n",
        "to compute a distribution of extreme sea levels in 2100 relative to 2010\n",
        "mean sea level? Write down the approach in clear steps, with equations\n",
        "as needed."
      ],
      "id": "57b09c31-a7c6-460c-88bb-38cf00020b03"
    },
    {
      "cell_type": "markdown",
      "metadata": {},
      "source": [
        "#### Problem 3.2 (3 points)\n",
        "\n",
        "Follow the steps above and produce a histogram of the extreme sea levels\n",
        "in 2100 relative to 2010."
      ],
      "id": "b215071b-31d0-483c-9d30-f79686735773"
    },
    {
      "cell_type": "markdown",
      "metadata": {},
      "source": [
        "#### Problem 3.3 (5 points)\n",
        "\n",
        "The current levee was heightened in 2010 to 2m above the 2010 mean sea\n",
        "level. Based on your analysis above, what is the probability that the\n",
        "levee will be overtopped in 2100 (remember that the reliability standard\n",
        "is 1%)?"
      ],
      "id": "9ccb020b-d051-4538-875d-4253ac619e2e"
    },
    {
      "cell_type": "markdown",
      "metadata": {},
      "source": [
        "#### Problem 3.4 (3 points)\n",
        "\n",
        "Based on your analysis, would you recommend that the levee be heightened\n",
        "again in the future, and if so, how high? What other information might\n",
        "you need, if any, to make your recommendation?"
      ],
      "id": "7fa8b8ee-5a31-47d3-aaf1-6218b5c1fd3b"
    },
    {
      "cell_type": "markdown",
      "metadata": {},
      "source": [
        "## References\n",
        "\n",
        "List any external references consulted, including classmates."
      ],
      "id": "2a75b436-193a-40fd-9a2e-88bed646cb4e"
    }
  ],
  "nbformat": 4,
  "nbformat_minor": 5,
  "metadata": {
    "kernelspec": {
      "name": "julia-1.9",
      "display_name": "Julia 1.9.4",
      "language": "julia",
      "path": "/home/runner/.local/share/jupyter/kernels/julia-1.9"
    },
    "language_info": {
      "name": "julia",
      "file_extension": ".jl",
      "mimetype": "application/julia",
      "version": "1.9.4"
    }
  }
}